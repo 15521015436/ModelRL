{
 "cells": [
  {
   "cell_type": "markdown",
   "metadata": {},
   "source": [
    "# Learning Environment Dynamics with Feed-forward and Recurrent Network for model-based Reinforcement Learning\n",
    "\n",
    "## Single agent environments with partial observability\n",
    "\n",
    "Dependencies: OpenAI Gym and keras"
   ]
  },
  {
   "cell_type": "code",
   "execution_count": null,
   "metadata": {},
   "outputs": [],
   "source": [
    "import MDP_learning.single_agent.dynamics_learning\n",
    "\n",
    "env_name = \"Swimmer-v1\"\n",
    "env = gym.make(env_name)\n",
    "observation_space = env.observation_space\n",
    "action_space = env.action_space\n",
    "\n",
    "ML = ModelLearner(env_name, observation_space, action_space, partial_obs_rate=0.01, sequence_length=3)\n",
    "mem = np.load('../save_memory/{}IMPUTED0.01round<built-in function round>.npy'.format(env_name))\n",
    "ML.memory = mem\n",
    "ML.train_models()"
   ]
  },
  {
   "cell_type": "markdown",
   "metadata": {},
   "source": [
    "## Atari environments\n",
    "Dependencies: OpenAI Gym and keras-rl"
   ]
  },
  {
   "cell_type": "code",
   "execution_count": null,
   "metadata": {},
   "outputs": [],
   "source": [
    "import MDP_learning.from_pixels.dqn_kerasrl_modellearn\n",
    "\n",
    "INPUT_SHAPE = (84, 84)\n",
    "WINDOW_LENGTH = 4\n",
    "nb_steps_dqn_fit = 1750000\n",
    "nb_steps_warmup_dqn_agent = 50000\n",
    "target_model_update_dqn_agent = 10000\n",
    "memory_limit = 1000000\n",
    "nb_steps_annealed_policy = 1000000\n",
    "ml_model_epochs = 30\n",
    "\n",
    "env_name = 'SeaquestDeterministic-v4'\n",
    "env = gym.make(env_name)\n",
    "\n",
    "weights_filename = 'dqn_{}_weights.h5f'.format(env_name)\n",
    "checkpoint_weights_filename = 'dqn_' + env_name + '_weights_{step}.h5f'\n",
    "log_filename = 'dqn_{}_log.json'.format(env_name)\n",
    "\n",
    "# Next, we build our model. We use the same model that was described by Mnih et al. (2015).\n",
    "input_shape = (WINDOW_LENGTH,) + INPUT_SHAPE\n",
    "num_actions = env.action_space.n\n",
    "processor = AtariProcessor(INPUT_SHAPE)  # (gray-)scale\n",
    "dqn_agent, hidden_state_size = setupDQN(num_actions)\n",
    "trainDQN(dqn_agent)\n",
    "\n",
    "# Sequence length for RNN (setting it to 1 uses a feed-forward network)\n",
    "seq_len = 10\n",
    "# train the model for hidden state (i.e. observation prediction)\n",
    "dynamics_model, dqn_convolutions = trainML(dqn_agent,\n",
    "                                           sequence_length=seq_len,\n",
    "                                           hstate_size=hidden_state_size)\n"
   ]
  },
  {
   "cell_type": "markdown",
   "metadata": {},
   "source": [
    "## Multi-Agent environment\n",
    "Dependencies: OpenAI multi-agent environments (https://github.com/openai/multiagent-particle-envs)"
   ]
  },
  {
   "cell_type": "code",
   "execution_count": null,
   "metadata": {},
   "outputs": [],
   "source": [
    "from MDP_learning.multi_agent import multi\n",
    "\n",
    "env_name = 'simple'\n",
    "env = make_env2.make_env(env_name)\n",
    "\n",
    "# Sequence length of 0 uses a feed-forward network\n",
    "MAML = MultiAgentModelLearner(env, mem_size=100000, sequence_length=0, scenario_name=env_name, epochs=100)\n",
    "MAML.run()"
   ]
  }
 ],
 "metadata": {
  "kernelspec": {
   "display_name": "Python 2",
   "language": "python",
   "name": "python2"
  },
  "language_info": {
   "codemirror_mode": {
    "name": "ipython",
    "version": 2
   },
   "file_extension": ".py",
   "mimetype": "text/x-python",
   "name": "python",
   "nbconvert_exporter": "python",
   "pygments_lexer": "ipython2",
   "version": "2.7.6"
  }
 },
 "nbformat": 4,
 "nbformat_minor": 0
}
